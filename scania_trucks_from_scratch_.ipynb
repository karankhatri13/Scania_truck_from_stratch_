{
 "cells": [
  {
   "cell_type": "code",
   "execution_count": 1,
   "metadata": {},
   "outputs": [],
   "source": [
    "import pandas as pd\n",
    "\n",
    "import numpy as np\n",
    "\n",
    "import scipy.stats as s\n",
    "\n",
    "from sklearn.impute import SimpleImputer\n",
    "\n",
    "import matplotlib.pyplot as plt\n",
    "\n",
    "import seaborn as sns\n",
    "\n",
    "from Rashtriya_Raksha_University_Gaussian_NB import rru_gaussian_nb\n",
    "\n",
    "from imblearn.over_sampling import SMOTE\n",
    "\n",
    "from sklearn.naive_bayes import GaussianNB\n",
    "\n",
    "from sklearn.metrics import accuracy_score,precision_score,recall_score"
   ]
  },
  {
   "cell_type": "code",
   "execution_count": 2,
   "metadata": {},
   "outputs": [],
   "source": [
    "class rru_gaussian_nb_scania(rru_gaussian_nb):\n",
    "    \n",
    "    def __init__(xerox_copy,data,non_missing_threshold,split_ratio,apply_pca_or_not,n_principal_components):\n",
    "        \n",
    "        data.replace(to_replace='na',value=np.nan,inplace=True)\n",
    "        \n",
    "        data.dropna(axis=1,inplace=True,thresh=int(non_missing_threshold*data.shape[0]))\n",
    "        \n",
    "        data_labels = data['class']\n",
    "        \n",
    "        imputer = SimpleImputer()\n",
    "        \n",
    "        data_array = imputer.fit_transform(X=data.iloc[:,1:])\n",
    "        \n",
    "        data_columns = data.columns\n",
    "        \n",
    "        data = pd.DataFrame(data=data_array,columns=data_columns[1:])\n",
    "        \n",
    "        np_array_list = list()\n",
    "        \n",
    "        for column in data.columns:\n",
    "    \n",
    "            data[column] = pd.qcut(x=data[column],q=10,duplicates='drop').cat.codes\n",
    "        \n",
    "            np_array_list.append(np.eye(10,10)[data[column]])\n",
    "            \n",
    "        data_array = np.concatenate(np_array_list,axis=1)\n",
    "        \n",
    "        data = pd.DataFrame(data=data_array)\n",
    "\n",
    "        data['class'] = data_labels\n",
    "        \n",
    "        xerox_copy.data = data\n",
    "        \n",
    "        super().__init__(features=data.iloc[:,0:data.shape[1]-1],labels=data['class'],data_split_ratio=split_ratio,\n",
    "                         apply_pca=apply_pca_or_not,n_components=n_principal_components)"
   ]
  },
  {
   "cell_type": "code",
   "execution_count": 3,
   "metadata": {},
   "outputs": [
    {
     "name": "stderr",
     "output_type": "stream",
     "text": [
      "C:\\Users\\Karan khatri\\anaconda3\\lib\\site-packages\\IPython\\core\\interactiveshell.py:3146: DtypeWarning: Columns (1) have mixed types.Specify dtype option on import or set low_memory=False.\n",
      "  has_raised = await self.run_ast_nodes(code_ast.body, cell_name,\n"
     ]
    }
   ],
   "source": [
    "data = pd.read_csv(\"./aps_failure_training_set.csv\",header=None,skiprows=20)"
   ]
  },
  {
   "cell_type": "code",
   "execution_count": 4,
   "metadata": {},
   "outputs": [],
   "source": [
    "column_names = data.iloc[0]\n",
    "\n",
    "data = pd.read_csv(\"./aps_failure_training_set.csv\",header=None,skiprows=21,names=column_names)"
   ]
  },
  {
   "cell_type": "code",
   "execution_count": 5,
   "metadata": {},
   "outputs": [],
   "source": [
    "naive_bayes_configs = dict()\n",
    "\n",
    "for non_na_thresh in np.arange(0.7,1,0.1):\n",
    "    \n",
    "    for n_comp in np.arange(20,170,50):\n",
    "        \n",
    "        naive_bayes_configs[(non_na_thresh,n_comp)] = rru_gaussian_nb_scania(data,non_na_thresh,(0.8,0.2,0.0),True,n_comp)"
   ]
  },
  {
   "cell_type": "code",
   "execution_count": 6,
   "metadata": {},
   "outputs": [
    {
     "data": {
      "text/plain": [
       "{(0.7, 20): <__main__.rru_gaussian_nb_scania at 0x2a66c598160>,\n",
       " (0.7, 70): <__main__.rru_gaussian_nb_scania at 0x2a666db9dc0>,\n",
       " (0.7, 120): <__main__.rru_gaussian_nb_scania at 0x2a66c56caf0>,\n",
       " (0.7999999999999999, 20): <__main__.rru_gaussian_nb_scania at 0x2a66c598310>,\n",
       " (0.7999999999999999, 70): <__main__.rru_gaussian_nb_scania at 0x2a66c598e20>,\n",
       " (0.7999999999999999, 120): <__main__.rru_gaussian_nb_scania at 0x2a61e0177f0>,\n",
       " (0.8999999999999999, 20): <__main__.rru_gaussian_nb_scania at 0x2a61e017400>,\n",
       " (0.8999999999999999, 70): <__main__.rru_gaussian_nb_scania at 0x2a61e017b20>,\n",
       " (0.8999999999999999, 120): <__main__.rru_gaussian_nb_scania at 0x2a61e017ac0>,\n",
       " (0.9999999999999999, 20): <__main__.rru_gaussian_nb_scania at 0x2a6118bd1f0>,\n",
       " (0.9999999999999999, 70): <__main__.rru_gaussian_nb_scania at 0x2a6118bd370>,\n",
       " (0.9999999999999999, 120): <__main__.rru_gaussian_nb_scania at 0x2a6118bd3a0>}"
      ]
     },
     "execution_count": 6,
     "metadata": {},
     "output_type": "execute_result"
    }
   ],
   "source": [
    "naive_bayes_configs"
   ]
  },
  {
   "cell_type": "code",
   "execution_count": 7,
   "metadata": {},
   "outputs": [],
   "source": [
    "naive_bayes = list()\n",
    "\n",
    "cv_data_list = list()\n",
    "\n",
    "for obj in naive_bayes_configs.values():\n",
    "    \n",
    "    X_resampled,y_resampled = SMOTE(sampling_strategy='minority').fit_sample(X=obj.X_new,y=data['class'])\n",
    "    \n",
    "    data_resampled = pd.DataFrame(data=X_resampled)\n",
    "    \n",
    "    data_resampled['class'] = data['class']\n",
    "    \n",
    "    train_data,cv_data,test_data = obj.data_splitting(data_resampled)\n",
    "    \n",
    "    cv_data_list.append(cv_data)\n",
    "    \n",
    "    naive_bayes.append(GaussianNB().fit(X=np.array(train_data.iloc[:,0:train_data.shape[1]-1]),y=train_data['label']))"
   ]
  },
  {
   "cell_type": "code",
   "execution_count": 8,
   "metadata": {},
   "outputs": [],
   "source": [
    "metrics = dict()\n",
    "\n",
    "for obj,cv_data,config in tuple(zip(naive_bayes,cv_data_list,naive_bayes_configs.keys())):\n",
    "    \n",
    "    predicted_category = obj.predict(X=np.array(cv_data.iloc[:,0:cv_data.shape[1]-1]))\n",
    "    \n",
    "    acc = accuracy_score(y_true=np.array(cv_data['label']),y_pred=predicted_category)\n",
    "    \n",
    "    metrics[config] = {'acc':acc}"
   ]
  },
  {
   "cell_type": "code",
   "execution_count": 9,
   "metadata": {},
   "outputs": [
    {
     "data": {
      "text/plain": [
       "{(0.7, 20): {'acc': 0.9361016949152542},\n",
       " (0.7, 70): {'acc': 0.9513559322033899},\n",
       " (0.7, 120): {'acc': 0.9513559322033899},\n",
       " (0.7999999999999999, 20): {'acc': 0.9408474576271186},\n",
       " (0.7999999999999999, 70): {'acc': 0.9533898305084746},\n",
       " (0.7999999999999999, 120): {'acc': 0.956864406779661},\n",
       " (0.8999999999999999, 20): {'acc': 0.9374576271186441},\n",
       " (0.8999999999999999, 70): {'acc': 0.9509322033898305},\n",
       " (0.8999999999999999, 120): {'acc': 0.9536440677966102},\n",
       " (0.9999999999999999, 20): {'acc': 0.9141525423728813},\n",
       " (0.9999999999999999, 70): {'acc': 0.9141525423728813},\n",
       " (0.9999999999999999, 120): {'acc': 0.9141525423728813}}"
      ]
     },
     "execution_count": 9,
     "metadata": {},
     "output_type": "execute_result"
    }
   ],
   "source": [
    "metrics"
   ]
  },
  {
   "cell_type": "markdown",
   "metadata": {},
   "source": [
    "# Using the metrics above, you can decide which configuration (which naive bayes classifier configuration in naive_bayes list)is working best for the case of Cross Validation Data."
   ]
  },
  {
   "cell_type": "markdown",
   "metadata": {},
   "source": [
    "# Use that trained configuration of naive bayes classifier in naive_bayes list to perform the prediction on testing data"
   ]
  },
  {
   "cell_type": "markdown",
   "metadata": {},
   "source": [
    "# This is going to be your assignment. "
   ]
  },
  {
   "cell_type": "code",
   "execution_count": 10,
   "metadata": {},
   "outputs": [],
   "source": [
    "data = pd.read_csv(\"aps_failure_test_set.csv\") "
   ]
  },
  {
   "cell_type": "code",
   "execution_count": 11,
   "metadata": {},
   "outputs": [
    {
     "data": {
      "text/html": [
       "<div>\n",
       "<style scoped>\n",
       "    .dataframe tbody tr th:only-of-type {\n",
       "        vertical-align: middle;\n",
       "    }\n",
       "\n",
       "    .dataframe tbody tr th {\n",
       "        vertical-align: top;\n",
       "    }\n",
       "\n",
       "    .dataframe thead th {\n",
       "        text-align: right;\n",
       "    }\n",
       "</style>\n",
       "<table border=\"1\" class=\"dataframe\">\n",
       "  <thead>\n",
       "    <tr style=\"text-align: right;\">\n",
       "      <th></th>\n",
       "      <th>class</th>\n",
       "      <th>aa_000</th>\n",
       "      <th>ab_000</th>\n",
       "      <th>ac_000</th>\n",
       "      <th>ad_000</th>\n",
       "      <th>ae_000</th>\n",
       "      <th>af_000</th>\n",
       "      <th>ag_000</th>\n",
       "      <th>ag_001</th>\n",
       "      <th>ag_002</th>\n",
       "      <th>...</th>\n",
       "      <th>ee_002</th>\n",
       "      <th>ee_003</th>\n",
       "      <th>ee_004</th>\n",
       "      <th>ee_005</th>\n",
       "      <th>ee_006</th>\n",
       "      <th>ee_007</th>\n",
       "      <th>ee_008</th>\n",
       "      <th>ee_009</th>\n",
       "      <th>ef_000</th>\n",
       "      <th>eg_000</th>\n",
       "    </tr>\n",
       "  </thead>\n",
       "  <tbody>\n",
       "    <tr>\n",
       "      <th>0</th>\n",
       "      <td>0</td>\n",
       "      <td>60</td>\n",
       "      <td>0</td>\n",
       "      <td>20</td>\n",
       "      <td>12</td>\n",
       "      <td>0</td>\n",
       "      <td>0</td>\n",
       "      <td>0</td>\n",
       "      <td>0</td>\n",
       "      <td>0</td>\n",
       "      <td>...</td>\n",
       "      <td>1098</td>\n",
       "      <td>138</td>\n",
       "      <td>412</td>\n",
       "      <td>654</td>\n",
       "      <td>78</td>\n",
       "      <td>88</td>\n",
       "      <td>0</td>\n",
       "      <td>0</td>\n",
       "      <td>0</td>\n",
       "      <td>0</td>\n",
       "    </tr>\n",
       "    <tr>\n",
       "      <th>1</th>\n",
       "      <td>0</td>\n",
       "      <td>82</td>\n",
       "      <td>0</td>\n",
       "      <td>68</td>\n",
       "      <td>40</td>\n",
       "      <td>0</td>\n",
       "      <td>0</td>\n",
       "      <td>0</td>\n",
       "      <td>0</td>\n",
       "      <td>0</td>\n",
       "      <td>...</td>\n",
       "      <td>1068</td>\n",
       "      <td>276</td>\n",
       "      <td>1620</td>\n",
       "      <td>116</td>\n",
       "      <td>86</td>\n",
       "      <td>462</td>\n",
       "      <td>0</td>\n",
       "      <td>0</td>\n",
       "      <td>0</td>\n",
       "      <td>0</td>\n",
       "    </tr>\n",
       "    <tr>\n",
       "      <th>2</th>\n",
       "      <td>0</td>\n",
       "      <td>66002</td>\n",
       "      <td>2</td>\n",
       "      <td>212</td>\n",
       "      <td>112</td>\n",
       "      <td>0</td>\n",
       "      <td>0</td>\n",
       "      <td>0</td>\n",
       "      <td>0</td>\n",
       "      <td>0</td>\n",
       "      <td>...</td>\n",
       "      <td>495076</td>\n",
       "      <td>380368</td>\n",
       "      <td>440134</td>\n",
       "      <td>269556</td>\n",
       "      <td>1315022</td>\n",
       "      <td>153680</td>\n",
       "      <td>516</td>\n",
       "      <td>0</td>\n",
       "      <td>0</td>\n",
       "      <td>0</td>\n",
       "    </tr>\n",
       "    <tr>\n",
       "      <th>3</th>\n",
       "      <td>0</td>\n",
       "      <td>59816</td>\n",
       "      <td>na</td>\n",
       "      <td>1010</td>\n",
       "      <td>936</td>\n",
       "      <td>0</td>\n",
       "      <td>0</td>\n",
       "      <td>0</td>\n",
       "      <td>0</td>\n",
       "      <td>0</td>\n",
       "      <td>...</td>\n",
       "      <td>540820</td>\n",
       "      <td>243270</td>\n",
       "      <td>483302</td>\n",
       "      <td>485332</td>\n",
       "      <td>431376</td>\n",
       "      <td>210074</td>\n",
       "      <td>281662</td>\n",
       "      <td>3232</td>\n",
       "      <td>0</td>\n",
       "      <td>0</td>\n",
       "    </tr>\n",
       "    <tr>\n",
       "      <th>4</th>\n",
       "      <td>0</td>\n",
       "      <td>1814</td>\n",
       "      <td>na</td>\n",
       "      <td>156</td>\n",
       "      <td>140</td>\n",
       "      <td>0</td>\n",
       "      <td>0</td>\n",
       "      <td>0</td>\n",
       "      <td>0</td>\n",
       "      <td>0</td>\n",
       "      <td>...</td>\n",
       "      <td>7646</td>\n",
       "      <td>4144</td>\n",
       "      <td>18466</td>\n",
       "      <td>49782</td>\n",
       "      <td>3176</td>\n",
       "      <td>482</td>\n",
       "      <td>76</td>\n",
       "      <td>0</td>\n",
       "      <td>0</td>\n",
       "      <td>0</td>\n",
       "    </tr>\n",
       "  </tbody>\n",
       "</table>\n",
       "<p>5 rows × 171 columns</p>\n",
       "</div>"
      ],
      "text/plain": [
       "   class  aa_000 ab_000 ac_000 ad_000 ae_000 af_000 ag_000 ag_001 ag_002  ...  \\\n",
       "0      0      60      0     20     12      0      0      0      0      0  ...   \n",
       "1      0      82      0     68     40      0      0      0      0      0  ...   \n",
       "2      0   66002      2    212    112      0      0      0      0      0  ...   \n",
       "3      0   59816     na   1010    936      0      0      0      0      0  ...   \n",
       "4      0    1814     na    156    140      0      0      0      0      0  ...   \n",
       "\n",
       "   ee_002  ee_003  ee_004  ee_005   ee_006  ee_007  ee_008 ee_009 ef_000  \\\n",
       "0    1098     138     412     654       78      88       0      0      0   \n",
       "1    1068     276    1620     116       86     462       0      0      0   \n",
       "2  495076  380368  440134  269556  1315022  153680     516      0      0   \n",
       "3  540820  243270  483302  485332   431376  210074  281662   3232      0   \n",
       "4    7646    4144   18466   49782     3176     482      76      0      0   \n",
       "\n",
       "  eg_000  \n",
       "0      0  \n",
       "1      0  \n",
       "2      0  \n",
       "3      0  \n",
       "4      0  \n",
       "\n",
       "[5 rows x 171 columns]"
      ]
     },
     "execution_count": 11,
     "metadata": {},
     "output_type": "execute_result"
    }
   ],
   "source": [
    "#encode labels to 0 and \n",
    "\n",
    "from sklearn.preprocessing import LabelEncoder #Encode target labels with value\n",
    " \n",
    "le = LabelEncoder() #importing label encoder\n",
    "\n",
    "data['class'] = le.fit_transform(data['class']) #picking the values of column 'class'\n",
    "\n",
    "df = data.copy()\n",
    "\n",
    "df.head()"
   ]
  },
  {
   "cell_type": "code",
   "execution_count": 12,
   "metadata": {},
   "outputs": [],
   "source": [
    "naive_bayes_configs = dict()\n",
    "\n",
    "for non_na_thresh in np.arange(0.7,1,0.3):\n",
    "    \n",
    "    for n_comp in np.arange(15,165,40):\n",
    "        \n",
    "        naive_bayes_configs[(non_na_thresh,n_comp)] = rru_gaussian_nb_scania(data,non_na_thresh,(0.7,0.3,0.0),True,n_comp)"
   ]
  },
  {
   "cell_type": "code",
   "execution_count": 13,
   "metadata": {},
   "outputs": [
    {
     "data": {
      "text/plain": [
       "{(0.7, 15): <__main__.rru_gaussian_nb_scania at 0x2a6118bda30>,\n",
       " (0.7, 55): <__main__.rru_gaussian_nb_scania at 0x2a666db9490>,\n",
       " (0.7, 95): <__main__.rru_gaussian_nb_scania at 0x2a6050fe7c0>,\n",
       " (0.7, 135): <__main__.rru_gaussian_nb_scania at 0x2a6050f8850>,\n",
       " (1.0, 15): <__main__.rru_gaussian_nb_scania at 0x2a6050f8bb0>,\n",
       " (1.0, 55): <__main__.rru_gaussian_nb_scania at 0x2a6050f8c10>,\n",
       " (1.0, 95): <__main__.rru_gaussian_nb_scania at 0x2a6050f8be0>,\n",
       " (1.0, 135): <__main__.rru_gaussian_nb_scania at 0x2a6051001c0>}"
      ]
     },
     "execution_count": 13,
     "metadata": {},
     "output_type": "execute_result"
    }
   ],
   "source": [
    "naive_bayes_configs"
   ]
  },
  {
   "cell_type": "code",
   "execution_count": 14,
   "metadata": {},
   "outputs": [],
   "source": [
    "naive_bayes = list()\n",
    "\n",
    "cv_data_list = list()\n",
    "\n",
    "for obj in naive_bayes_configs.values():\n",
    "    \n",
    "    X_resampled,y_resampled = SMOTE(sampling_strategy='minority').fit_sample(X=obj.X_new,y=data['class'])\n",
    "    \n",
    "    data_resampled = pd.DataFrame(data=X_resampled)\n",
    "    \n",
    "    data_resampled['class'] = data['class']\n",
    "    \n",
    "    train_data,cv_data,test_data = obj.data_splitting(data_resampled)\n",
    "    \n",
    "    cv_data_list.append(cv_data)\n",
    "    \n",
    "    naive_bayes.append(GaussianNB().fit(X=np.array(train_data.iloc[:,0:train_data.shape[1]-1]),y=train_data['label']))"
   ]
  },
  {
   "cell_type": "code",
   "execution_count": 15,
   "metadata": {},
   "outputs": [
    {
     "data": {
      "text/plain": [
       "array([0, 1])"
      ]
     },
     "execution_count": 15,
     "metadata": {},
     "output_type": "execute_result"
    }
   ],
   "source": [
    "y_resampled.unique()"
   ]
  },
  {
   "cell_type": "code",
   "execution_count": 21,
   "metadata": {},
   "outputs": [],
   "source": [
    "metrics = dict()\n",
    "\n",
    "for obj,cv_data,config in tuple(zip(naive_bayes,cv_data_list,naive_bayes_configs.keys())):\n",
    "    \n",
    "    prediction = obj.predict(X=np.array(cv_data.iloc[:,0:cv_data.shape[1]-1]))"
   ]
  },
  {
   "cell_type": "code",
   "execution_count": 26,
   "metadata": {},
   "outputs": [],
   "source": [
    "acc = accuracy_score(y_true=np.array(cv_data['label']),y_pred=prediction)"
   ]
  },
  {
   "cell_type": "code",
   "execution_count": 27,
   "metadata": {},
   "outputs": [
    {
     "name": "stdout",
     "output_type": "stream",
     "text": [
      "0.9195819112627986\n"
     ]
    }
   ],
   "source": [
    "print(acc)"
   ]
  },
  {
   "cell_type": "code",
   "execution_count": null,
   "metadata": {},
   "outputs": [],
   "source": []
  }
 ],
 "metadata": {
  "kernelspec": {
   "display_name": "Python 3",
   "language": "python",
   "name": "python3"
  },
  "language_info": {
   "codemirror_mode": {
    "name": "ipython",
    "version": 3
   },
   "file_extension": ".py",
   "mimetype": "text/x-python",
   "name": "python",
   "nbconvert_exporter": "python",
   "pygments_lexer": "ipython3",
   "version": "3.8.5"
  }
 },
 "nbformat": 4,
 "nbformat_minor": 4
}
